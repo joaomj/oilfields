{
 "cells": [
  {
   "cell_type": "markdown",
   "metadata": {},
   "source": [
    "# **Configuração Geral**"
   ]
  },
  {
   "cell_type": "markdown",
   "metadata": {},
   "source": [
    "## Imports"
   ]
  },
  {
   "cell_type": "code",
   "execution_count": 39,
   "metadata": {},
   "outputs": [],
   "source": [
    "import pandas as pd\n",
    "import matplotlib.pyplot as plt\n",
    "import numpy as np\n",
    "import seaborn as sns\n",
    "from fractions import Fraction"
   ]
  },
  {
   "cell_type": "markdown",
   "metadata": {},
   "source": [
    "## Funções"
   ]
  },
  {
   "cell_type": "code",
   "execution_count": 40,
   "metadata": {},
   "outputs": [],
   "source": [
    "# Converte uma string que representa polegadas para um float\n",
    "def polegadas(value):\n",
    "\n",
    "    # Divide a string recebida\n",
    "    value = value.strip()\n",
    "\n",
    "    # Se a string tem mais de uma parte, obtém a parte inteira e calcula a parte decimal\n",
    "    if ' ' in value:\n",
    "        inteiro, decimal = value.split(' ') # a parte inteira é o que está antes do ' ', a parte decimal é o que está depois\n",
    "        polegadas = float(inteiro) + float(Fraction(decimal))\n",
    "\n",
    "    else:\n",
    "        polegadas = float(value)\n",
    "    \n",
    "    return polegadas\n",
    "\n",
    "# -------------------------------\n"
   ]
  },
  {
   "cell_type": "markdown",
   "metadata": {},
   "source": [
    "# **Carregando Dados**"
   ]
  },
  {
   "cell_type": "code",
   "execution_count": 41,
   "metadata": {},
   "outputs": [
    {
     "data": {
      "text/html": [
       "<div>\n",
       "<style scoped>\n",
       "    .dataframe tbody tr th:only-of-type {\n",
       "        vertical-align: middle;\n",
       "    }\n",
       "\n",
       "    .dataframe tbody tr th {\n",
       "        vertical-align: top;\n",
       "    }\n",
       "\n",
       "    .dataframe thead th {\n",
       "        text-align: right;\n",
       "    }\n",
       "</style>\n",
       "<table border=\"1\" class=\"dataframe\">\n",
       "  <thead>\n",
       "    <tr style=\"text-align: right;\">\n",
       "      <th></th>\n",
       "      <th>Unnamed: 0</th>\n",
       "      <th>Nome do Poço</th>\n",
       "      <th>Fase</th>\n",
       "      <th>Tipo Poço</th>\n",
       "      <th>LDA (Lâmina D'Água)</th>\n",
       "      <th>Diâmetro Fase</th>\n",
       "      <th>Metragem</th>\n",
       "      <th>NFases</th>\n",
       "    </tr>\n",
       "  </thead>\n",
       "  <tbody>\n",
       "    <tr>\n",
       "      <th>0</th>\n",
       "      <td>0</td>\n",
       "      <td>6C5G4M</td>\n",
       "      <td>1</td>\n",
       "      <td>VERTICAL</td>\n",
       "      <td>598.0</td>\n",
       "      <td>26</td>\n",
       "      <td>607.0</td>\n",
       "      <td>4</td>\n",
       "    </tr>\n",
       "    <tr>\n",
       "      <th>1</th>\n",
       "      <td>1</td>\n",
       "      <td>6C5G4M</td>\n",
       "      <td>2</td>\n",
       "      <td>VERTICAL</td>\n",
       "      <td>598.0</td>\n",
       "      <td>17 1/2</td>\n",
       "      <td>1306.0</td>\n",
       "      <td>4</td>\n",
       "    </tr>\n",
       "    <tr>\n",
       "      <th>2</th>\n",
       "      <td>2</td>\n",
       "      <td>6C5G4M</td>\n",
       "      <td>3</td>\n",
       "      <td>VERTICAL</td>\n",
       "      <td>598.0</td>\n",
       "      <td>12 1/4</td>\n",
       "      <td>1201.0</td>\n",
       "      <td>4</td>\n",
       "    </tr>\n",
       "    <tr>\n",
       "      <th>3</th>\n",
       "      <td>3</td>\n",
       "      <td>6C5G4M</td>\n",
       "      <td>4</td>\n",
       "      <td>VERTICAL</td>\n",
       "      <td>598.0</td>\n",
       "      <td>8 1/2</td>\n",
       "      <td>1445.0</td>\n",
       "      <td>4</td>\n",
       "    </tr>\n",
       "    <tr>\n",
       "      <th>4</th>\n",
       "      <td>4</td>\n",
       "      <td>8030JC</td>\n",
       "      <td>1</td>\n",
       "      <td>VERTICAL</td>\n",
       "      <td>0.0</td>\n",
       "      <td>17 1/2</td>\n",
       "      <td>410.0</td>\n",
       "      <td>3</td>\n",
       "    </tr>\n",
       "  </tbody>\n",
       "</table>\n",
       "</div>"
      ],
      "text/plain": [
       "   Unnamed: 0 Nome do Poço  Fase Tipo Poço  LDA (Lâmina D'Água) Diâmetro Fase  \\\n",
       "0           0       6C5G4M     1  VERTICAL                598.0      26         \n",
       "1           1       6C5G4M     2  VERTICAL                598.0      17 1/2     \n",
       "2           2       6C5G4M     3  VERTICAL                598.0      12 1/4     \n",
       "3           3       6C5G4M     4  VERTICAL                598.0      8 1/2      \n",
       "4           4       8030JC     1  VERTICAL                  0.0      17 1/2     \n",
       "\n",
       "   Metragem  NFases  \n",
       "0     607.0       4  \n",
       "1    1306.0       4  \n",
       "2    1201.0       4  \n",
       "3    1445.0       4  \n",
       "4     410.0       3  "
      ]
     },
     "execution_count": 41,
     "metadata": {},
     "output_type": "execute_result"
    }
   ],
   "source": [
    "# Carregando dados csv\n",
    "df = pd.read_csv('data/dados_pocos.csv')\n",
    "df.head()"
   ]
  },
  {
   "cell_type": "markdown",
   "metadata": {},
   "source": [
    "# **Limpeza dos Dados**\n",
    "- Tratamento de valores ausentes\n",
    "- Remoção de outliers\n",
    "- Correção de tipos de dados\n",
    "- Normalização e padronização dos dados"
   ]
  },
  {
   "cell_type": "code",
   "execution_count": 42,
   "metadata": {},
   "outputs": [
    {
     "data": {
      "text/html": [
       "<div>\n",
       "<style scoped>\n",
       "    .dataframe tbody tr th:only-of-type {\n",
       "        vertical-align: middle;\n",
       "    }\n",
       "\n",
       "    .dataframe tbody tr th {\n",
       "        vertical-align: top;\n",
       "    }\n",
       "\n",
       "    .dataframe thead th {\n",
       "        text-align: right;\n",
       "    }\n",
       "</style>\n",
       "<table border=\"1\" class=\"dataframe\">\n",
       "  <thead>\n",
       "    <tr style=\"text-align: right;\">\n",
       "      <th></th>\n",
       "      <th>nome_do_poco</th>\n",
       "      <th>fase</th>\n",
       "      <th>tipo_poco</th>\n",
       "      <th>lda_lamina_d_agua</th>\n",
       "      <th>diametro_fase</th>\n",
       "      <th>metragem</th>\n",
       "      <th>nfases</th>\n",
       "    </tr>\n",
       "  </thead>\n",
       "  <tbody>\n",
       "    <tr>\n",
       "      <th>0</th>\n",
       "      <td>6C5G4M</td>\n",
       "      <td>1</td>\n",
       "      <td>VERTICAL</td>\n",
       "      <td>598.0</td>\n",
       "      <td>26</td>\n",
       "      <td>607.0</td>\n",
       "      <td>4</td>\n",
       "    </tr>\n",
       "    <tr>\n",
       "      <th>1</th>\n",
       "      <td>6C5G4M</td>\n",
       "      <td>2</td>\n",
       "      <td>VERTICAL</td>\n",
       "      <td>598.0</td>\n",
       "      <td>17 1/2</td>\n",
       "      <td>1306.0</td>\n",
       "      <td>4</td>\n",
       "    </tr>\n",
       "    <tr>\n",
       "      <th>2</th>\n",
       "      <td>6C5G4M</td>\n",
       "      <td>3</td>\n",
       "      <td>VERTICAL</td>\n",
       "      <td>598.0</td>\n",
       "      <td>12 1/4</td>\n",
       "      <td>1201.0</td>\n",
       "      <td>4</td>\n",
       "    </tr>\n",
       "    <tr>\n",
       "      <th>3</th>\n",
       "      <td>6C5G4M</td>\n",
       "      <td>4</td>\n",
       "      <td>VERTICAL</td>\n",
       "      <td>598.0</td>\n",
       "      <td>8 1/2</td>\n",
       "      <td>1445.0</td>\n",
       "      <td>4</td>\n",
       "    </tr>\n",
       "    <tr>\n",
       "      <th>4</th>\n",
       "      <td>8030JC</td>\n",
       "      <td>1</td>\n",
       "      <td>VERTICAL</td>\n",
       "      <td>0.0</td>\n",
       "      <td>17 1/2</td>\n",
       "      <td>410.0</td>\n",
       "      <td>3</td>\n",
       "    </tr>\n",
       "  </tbody>\n",
       "</table>\n",
       "</div>"
      ],
      "text/plain": [
       "  nome_do_poco  fase tipo_poco  lda_lamina_d_agua diametro_fase  metragem  \\\n",
       "0       6C5G4M     1  VERTICAL              598.0      26           607.0   \n",
       "1       6C5G4M     2  VERTICAL              598.0      17 1/2      1306.0   \n",
       "2       6C5G4M     3  VERTICAL              598.0      12 1/4      1201.0   \n",
       "3       6C5G4M     4  VERTICAL              598.0      8 1/2       1445.0   \n",
       "4       8030JC     1  VERTICAL                0.0      17 1/2       410.0   \n",
       "\n",
       "   nfases  \n",
       "0       4  \n",
       "1       4  \n",
       "2       4  \n",
       "3       4  \n",
       "4       3  "
      ]
     },
     "execution_count": 42,
     "metadata": {},
     "output_type": "execute_result"
    }
   ],
   "source": [
    "# Renomear as colunas para o padrão PEP8\n",
    "df.columns = ['index', 'nome_do_poco', 'fase', 'tipo_poco', 'lda_lamina_d_agua', 'diametro_fase', 'metragem', 'nfases']\n",
    "\n",
    "# Remover a coluna de índices 'Unnamed: 0'\n",
    "df = df.drop(columns=['index'])\n",
    "\n",
    "# Exibir df\n",
    "df.head()"
   ]
  },
  {
   "cell_type": "code",
   "execution_count": 43,
   "metadata": {},
   "outputs": [
    {
     "name": "stdout",
     "output_type": "stream",
     "text": [
      "nome_do_poco          object\n",
      "fase                   int64\n",
      "tipo_poco             object\n",
      "lda_lamina_d_agua    float64\n",
      "diametro_fase         object\n",
      "metragem             float64\n",
      "nfases                 int64\n",
      "dtype: object\n"
     ]
    }
   ],
   "source": [
    "# Verificar tipos de cada coluna\n",
    "print(df.dtypes)"
   ]
  },
  {
   "cell_type": "code",
   "execution_count": 44,
   "metadata": {},
   "outputs": [
    {
     "name": "stdout",
     "output_type": "stream",
     "text": [
      "                   valores_nulos  percentual\n",
      "nome_do_poco                   0         0.0\n",
      "fase                           0         0.0\n",
      "tipo_poco                      0         0.0\n",
      "lda_lamina_d_agua              0         0.0\n",
      "diametro_fase                  0         0.0\n",
      "metragem                       0         0.0\n",
      "nfases                         0         0.0\n"
     ]
    }
   ],
   "source": [
    "# Verificar quantidade de valores ausentes por coluna\n",
    "missing_values = df.isna().sum()\n",
    "missing_values_percentage = (missing_values / len(df)) * 100\n",
    "missing_values_df = pd.DataFrame({'valores_nulos': missing_values, 'percentual': missing_values_percentage})\n",
    "print(missing_values_df)"
   ]
  },
  {
   "cell_type": "code",
   "execution_count": 45,
   "metadata": {},
   "outputs": [
    {
     "name": "stdout",
     "output_type": "stream",
     "text": [
      "Quantidade de duplicados: 0\n"
     ]
    }
   ],
   "source": [
    "# Verificar quantidade de duplicados\n",
    "duplicate_count = df.duplicated().sum()\n",
    "print(f'Quantidade de duplicados: {duplicate_count}')"
   ]
  },
  {
   "cell_type": "code",
   "execution_count": 46,
   "metadata": {},
   "outputs": [
    {
     "data": {
      "text/plain": [
       "nome_do_poco                object\n",
       "fase                         int64\n",
       "tipo_poco                   object\n",
       "lda_lamina_d_agua          float64\n",
       "metragem                   float64\n",
       "nfases                       int64\n",
       "diametro_fase_polegadas    float64\n",
       "dtype: object"
      ]
     },
     "execution_count": 46,
     "metadata": {},
     "output_type": "execute_result"
    }
   ],
   "source": [
    "# Converte coluna de string para float\n",
    "df['diametro_fase_polegadas'] = df['diametro_fase'].apply(polegadas)\n",
    "df.drop(columns='diametro_fase', inplace=True)\n",
    "df.dtypes"
   ]
  },
  {
   "cell_type": "code",
   "execution_count": 47,
   "metadata": {},
   "outputs": [
    {
     "data": {
      "text/html": [
       "<div>\n",
       "<style scoped>\n",
       "    .dataframe tbody tr th:only-of-type {\n",
       "        vertical-align: middle;\n",
       "    }\n",
       "\n",
       "    .dataframe tbody tr th {\n",
       "        vertical-align: top;\n",
       "    }\n",
       "\n",
       "    .dataframe thead th {\n",
       "        text-align: right;\n",
       "    }\n",
       "</style>\n",
       "<table border=\"1\" class=\"dataframe\">\n",
       "  <thead>\n",
       "    <tr style=\"text-align: right;\">\n",
       "      <th></th>\n",
       "      <th>nome_do_poco</th>\n",
       "      <th>fase</th>\n",
       "      <th>tipo_poco</th>\n",
       "      <th>lda_lamina_d_agua</th>\n",
       "      <th>metragem</th>\n",
       "      <th>nfases</th>\n",
       "      <th>diametro_fase_polegadas</th>\n",
       "    </tr>\n",
       "  </thead>\n",
       "  <tbody>\n",
       "    <tr>\n",
       "      <th>0</th>\n",
       "      <td>6C5G4M</td>\n",
       "      <td>1</td>\n",
       "      <td>VERTICAL</td>\n",
       "      <td>598.0</td>\n",
       "      <td>607.0</td>\n",
       "      <td>4</td>\n",
       "      <td>26.00</td>\n",
       "    </tr>\n",
       "    <tr>\n",
       "      <th>1</th>\n",
       "      <td>6C5G4M</td>\n",
       "      <td>2</td>\n",
       "      <td>VERTICAL</td>\n",
       "      <td>598.0</td>\n",
       "      <td>1306.0</td>\n",
       "      <td>4</td>\n",
       "      <td>17.50</td>\n",
       "    </tr>\n",
       "    <tr>\n",
       "      <th>2</th>\n",
       "      <td>6C5G4M</td>\n",
       "      <td>3</td>\n",
       "      <td>VERTICAL</td>\n",
       "      <td>598.0</td>\n",
       "      <td>1201.0</td>\n",
       "      <td>4</td>\n",
       "      <td>12.25</td>\n",
       "    </tr>\n",
       "    <tr>\n",
       "      <th>3</th>\n",
       "      <td>6C5G4M</td>\n",
       "      <td>4</td>\n",
       "      <td>VERTICAL</td>\n",
       "      <td>598.0</td>\n",
       "      <td>1445.0</td>\n",
       "      <td>4</td>\n",
       "      <td>8.50</td>\n",
       "    </tr>\n",
       "    <tr>\n",
       "      <th>4</th>\n",
       "      <td>8030JC</td>\n",
       "      <td>1</td>\n",
       "      <td>VERTICAL</td>\n",
       "      <td>0.0</td>\n",
       "      <td>410.0</td>\n",
       "      <td>3</td>\n",
       "      <td>17.50</td>\n",
       "    </tr>\n",
       "  </tbody>\n",
       "</table>\n",
       "</div>"
      ],
      "text/plain": [
       "  nome_do_poco  fase tipo_poco  lda_lamina_d_agua  metragem  nfases  \\\n",
       "0       6C5G4M     1  VERTICAL              598.0     607.0       4   \n",
       "1       6C5G4M     2  VERTICAL              598.0    1306.0       4   \n",
       "2       6C5G4M     3  VERTICAL              598.0    1201.0       4   \n",
       "3       6C5G4M     4  VERTICAL              598.0    1445.0       4   \n",
       "4       8030JC     1  VERTICAL                0.0     410.0       3   \n",
       "\n",
       "   diametro_fase_polegadas  \n",
       "0                    26.00  \n",
       "1                    17.50  \n",
       "2                    12.25  \n",
       "3                     8.50  \n",
       "4                    17.50  "
      ]
     },
     "execution_count": 47,
     "metadata": {},
     "output_type": "execute_result"
    }
   ],
   "source": [
    "df.head()"
   ]
  },
  {
   "cell_type": "code",
   "execution_count": 48,
   "metadata": {},
   "outputs": [
    {
     "name": "stdout",
     "output_type": "stream",
     "text": [
      "Dataframe limpo gravado com sucesso!\n"
     ]
    }
   ],
   "source": [
    "# Gravar dataframe limpo\n",
    "df.to_csv('data/df_cleaned.csv')\n",
    "print('Dataframe limpo gravado com sucesso!')"
   ]
  },
  {
   "cell_type": "markdown",
   "metadata": {},
   "source": [
    "# **Análise Exploratória de Dados (EDA)**\n",
    "- Estatísticas descritivas\n",
    "- Distribuições de variáveis\n",
    "- Análise de correlação\n",
    "- Visualizações (histogramas, scatter plots, heatmaps, etc.)"
   ]
  },
  {
   "cell_type": "markdown",
   "metadata": {},
   "source": [
    "# **Feature Engineering**\n",
    "- Criação de novas variáveis\n",
    "- Seleção de variáveis\n",
    "- Transformações de variáveis\n",
    "- Codificação de variáveis categóricas"
   ]
  },
  {
   "cell_type": "markdown",
   "metadata": {},
   "source": [
    "# **Pré-processamento dos Dados**\n",
    "- Divisão dos dados em treino e teste\n",
    "- Escalonamento de características\n",
    "- Preparação de dados para modelagem"
   ]
  },
  {
   "cell_type": "markdown",
   "metadata": {},
   "source": [
    "# **Modelagem** (Machine Learning)\n",
    "- Escolha dos modelos\n",
    "- Treinamento dos modelos\n",
    "- Avaliação de desempenho dos modelos\n",
    "- Ajuste de hiperparâmetros"
   ]
  },
  {
   "cell_type": "markdown",
   "metadata": {},
   "source": [
    "# **Avaliação do Modelo**\n",
    "- Métricas de avaliação (precision, recall, F1-score, etc.)\n",
    "- Curvas ROC e AUC\n",
    "- Análise de erros"
   ]
  },
  {
   "cell_type": "markdown",
   "metadata": {},
   "source": [
    "# **Deploy do Modelo**\n",
    "- Gravação do modelo treinado\n",
    "- Carregamento do modelo para previsões futuras"
   ]
  },
  {
   "cell_type": "markdown",
   "metadata": {},
   "source": [
    "# **Conclusões**\n",
    "- Sumário dos resultados\n",
    "- Recomendações\n",
    "- Próximos passos"
   ]
  },
  {
   "cell_type": "markdown",
   "metadata": {},
   "source": [
    "# **Referências**\n",
    "- Citações e referências utilizadas"
   ]
  }
 ],
 "metadata": {
  "kernelspec": {
   "display_name": "ds_env",
   "language": "python",
   "name": "python3"
  },
  "language_info": {
   "codemirror_mode": {
    "name": "ipython",
    "version": 3
   },
   "file_extension": ".py",
   "mimetype": "text/x-python",
   "name": "python",
   "nbconvert_exporter": "python",
   "pygments_lexer": "ipython3",
   "version": "3.12.4"
  }
 },
 "nbformat": 4,
 "nbformat_minor": 2
}
