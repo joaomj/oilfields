{
 "cells": [
  {
   "cell_type": "markdown",
   "metadata": {},
   "source": [
    "# **Configuração Geral**"
   ]
  },
  {
   "cell_type": "markdown",
   "metadata": {},
   "source": [
    "## Imports"
   ]
  },
  {
   "cell_type": "code",
   "execution_count": 76,
   "metadata": {},
   "outputs": [],
   "source": [
    "import pandas as pd\n",
    "import matplotlib.pyplot as plt\n",
    "import numpy as np\n",
    "import seaborn as sns\n",
    "from fractions import Fraction\n",
    "import joblib\n",
    "import scipy.stats as stats\n",
    "\n",
    "# Machine Learning Models\n",
    "from sklearn.ensemble import RandomForestClassifier\n",
    "from sklearn.neighbors import KNeighborsClassifier\n",
    "from sklearn.tree import DecisionTreeClassifier\n",
    "from sklearn.linear_model import LogisticRegression\n",
    "from sklearn.preprocessing import LabelEncoder\n",
    "from sklearn.metrics import classification_report, accuracy_score\n",
    "from sklearn.model_selection import GridSearchCV"
   ]
  },
  {
   "cell_type": "markdown",
   "metadata": {},
   "source": [
    "## Funções"
   ]
  },
  {
   "cell_type": "code",
   "execution_count": 81,
   "metadata": {},
   "outputs": [],
   "source": [
    "# Converte uma string que representa polegadas para um float\n",
    "def polegadas(value):\n",
    "\n",
    "    # Divide a string recebida\n",
    "    value = value.strip()\n",
    "\n",
    "    # Se a string tem mais de uma parte, obtém a parte inteira e calcula a parte decimal\n",
    "    if ' ' in value:\n",
    "        inteiro, decimal = value.split(' ') # a parte inteira é o que está antes do ' ', a parte decimal é o que está depois\n",
    "        polegadas = float(inteiro) + float(Fraction(decimal))\n",
    "\n",
    "    else:\n",
    "        polegadas = float(value)\n",
    "    \n",
    "    return polegadas\n",
    "\n",
    "# -------------------------------\n",
    "# Testa, otimiza e retorna o modelo de melhor performance\n",
    "def seleciona_modelos(df, model_param_grid):\n",
    "    # Preparar os dados\n",
    "    df1 = df.copy()\n",
    "    df_train = df1[df1['tipo_poco'] != 'DIRECIONAL']\n",
    "    \n",
    "    X_train = df_train[['fase', 'lda_lamina_d_agua', 'metragem', 'nfases', 'diametro_fase_polegadas']]\n",
    "    y_train = df_train['tipo_poco']\n",
    "    \n",
    "    # Codificar target\n",
    "    label_encoder = LabelEncoder()\n",
    "    y_train_encoded = label_encoder.fit_transform(y_train)\n",
    "    \n",
    "    best_model = None\n",
    "    best_score = 0\n",
    "    best_metrics = None\n",
    "    \n",
    "    # Iterar sobre os modelos e grids de parâmetros fornecidos\n",
    "    for model_name, (model, param_grid) in model_param_grid.items():\n",
    "        print(f\"\\nTestando {model_name}...\")\n",
    "        \n",
    "        # Inicializar GridSearchCV\n",
    "        grid_search = GridSearchCV(estimator=model, param_grid=param_grid, cv=5, scoring='accuracy', n_jobs=-1)\n",
    "        grid_search.fit(X_train, y_train_encoded)\n",
    "        \n",
    "        # Obter o melhor modelo\n",
    "        current_best_model = grid_search.best_estimator_\n",
    "        current_best_score = grid_search.best_score_\n",
    "        \n",
    "        # Avaliar o modelo no conjunto de treinamento completo\n",
    "        y_train_pred_encoded = current_best_model.predict(X_train)\n",
    "        \n",
    "        # Imprimir relatórios de avaliação\n",
    "        # print(f\"Modelo: {model_name}\")\n",
    "        # print(\"Melhores Parâmetros Encontrados:\")\n",
    "        # print(grid_search.best_params_)\n",
    "        \n",
    "        # print(\"Relatório de Classificação (Treinamento):\")\n",
    "        report = classification_report(y_train_encoded, y_train_pred_encoded, target_names=label_encoder.classes_)\n",
    "        # print(report)\n",
    "        \n",
    "        # print(\"Acurácia no Conjunto de Treinamento:\")\n",
    "        accuracy = accuracy_score(y_train_encoded, y_train_pred_encoded)\n",
    "        # print(f\"{accuracy:.4f}\")\n",
    "        \n",
    "        # Verificar se é o melhor modelo até agora\n",
    "        if current_best_score > best_score:\n",
    "            best_score = current_best_score\n",
    "            best_model = current_best_model\n",
    "            best_metrics = {\n",
    "                'model_name': model_name,\n",
    "                'best_params': grid_search.best_params_,\n",
    "                'classification_report': report,\n",
    "                'accuracy': accuracy\n",
    "            }\n",
    "    \n",
    "    # Imprimir as métricas do melhor modelo dentre todos os testados\n",
    "    print(\"\\nMelhor Modelo:\")\n",
    "    print(f\"Modelo: {best_metrics['model_name']}\")\n",
    "    print(\"Melhores Parâmetros Encontrados:\")\n",
    "    print(best_metrics['best_params'])\n",
    "    \n",
    "    print(\"Relatório de Classificação (Treinamento):\")\n",
    "    print(best_metrics['classification_report'])\n",
    "    \n",
    "    print(\"Acurácia no Conjunto de Treinamento:\")\n",
    "    print(f\"{best_metrics['accuracy']:.4f}\")\n",
    "    \n",
    "    return best_model\n",
    "# -------------------------------\n",
    "\n",
    "# Função para salvar a grid de gráficos\n",
    "def save_grid_plot(filename):\n",
    "    plt.savefig(f'img/{filename}')\n",
    "    plt.close()\n",
    "# -------------------------------\n",
    "\n",
    "# Função para gerar e salvar gráficos de distribuição em uma grid\n",
    "def plot_distributions_grid(df, columns):\n",
    "    num_vars = len(columns)\n",
    "    fig, axes = plt.subplots(nrows=(num_vars + 2) // 3, ncols=3, figsize=(18, 4 * ((num_vars + 2) // 3)))\n",
    "    axes = axes.flatten()\n",
    "    \n",
    "    for i, column in enumerate(columns):\n",
    "        sns.histplot(df[column], kde=True, ax=axes[i])\n",
    "        axes[i].set_title(f'Distribuição de {column}')\n",
    "    \n",
    "    for j in range(i + 1, len(axes)):\n",
    "        axes[j].axis('off')  # Desliga os eixos restantes\n",
    "    \n",
    "    plt.tight_layout()\n",
    "    plt.show()\n",
    "    save_grid_plot('distributions_grid.png')\n",
    "# -------------------------------\n",
    "\n",
    "# Função para gerar gráficos boxplots para ajudar a identificar outliers\n",
    "def detect_outliers(df, numeric_columns):\n",
    "    \"\"\"\n",
    "    Detecta outliers nas variáveis numéricas e salva gráficos boxplot em uma grid.\n",
    "    \n",
    "    Parameters:\n",
    "    df (pd.DataFrame): DataFrame contendo os dados.\n",
    "    numeric_columns (list): Lista de nomes das colunas numéricas para análise.\n",
    "    \"\"\"\n",
    "    # Criar uma grid de gráficos\n",
    "    n = len(numeric_columns)\n",
    "    fig, axes = plt.subplots(nrows=1, ncols=n, figsize=(20, 5))\n",
    "\n",
    "    for ax, col in zip(axes, numeric_columns):\n",
    "        sns.boxplot(x=df[col], ax=ax)\n",
    "        ax.set_title(f'Boxplot de {col}')\n",
    "\n",
    "    # Ajustar layout e salvar a imagem\n",
    "    plt.tight_layout()\n",
    "    plt.show()\n",
    "    save_grid_plot('outliers_boxplots.png')"
   ]
  },
  {
   "cell_type": "markdown",
   "metadata": {},
   "source": [
    "# **Carregando Dados**"
   ]
  },
  {
   "cell_type": "code",
   "execution_count": 29,
   "metadata": {},
   "outputs": [
    {
     "data": {
      "text/html": [
       "<div>\n",
       "<style scoped>\n",
       "    .dataframe tbody tr th:only-of-type {\n",
       "        vertical-align: middle;\n",
       "    }\n",
       "\n",
       "    .dataframe tbody tr th {\n",
       "        vertical-align: top;\n",
       "    }\n",
       "\n",
       "    .dataframe thead th {\n",
       "        text-align: right;\n",
       "    }\n",
       "</style>\n",
       "<table border=\"1\" class=\"dataframe\">\n",
       "  <thead>\n",
       "    <tr style=\"text-align: right;\">\n",
       "      <th></th>\n",
       "      <th>Unnamed: 0</th>\n",
       "      <th>Nome do Poço</th>\n",
       "      <th>Fase</th>\n",
       "      <th>Tipo Poço</th>\n",
       "      <th>LDA (Lâmina D'Água)</th>\n",
       "      <th>Diâmetro Fase</th>\n",
       "      <th>Metragem</th>\n",
       "      <th>NFases</th>\n",
       "    </tr>\n",
       "  </thead>\n",
       "  <tbody>\n",
       "    <tr>\n",
       "      <th>0</th>\n",
       "      <td>0</td>\n",
       "      <td>6C5G4M</td>\n",
       "      <td>1</td>\n",
       "      <td>VERTICAL</td>\n",
       "      <td>598.0</td>\n",
       "      <td>26</td>\n",
       "      <td>607.0</td>\n",
       "      <td>4</td>\n",
       "    </tr>\n",
       "    <tr>\n",
       "      <th>1</th>\n",
       "      <td>1</td>\n",
       "      <td>6C5G4M</td>\n",
       "      <td>2</td>\n",
       "      <td>VERTICAL</td>\n",
       "      <td>598.0</td>\n",
       "      <td>17 1/2</td>\n",
       "      <td>1306.0</td>\n",
       "      <td>4</td>\n",
       "    </tr>\n",
       "    <tr>\n",
       "      <th>2</th>\n",
       "      <td>2</td>\n",
       "      <td>6C5G4M</td>\n",
       "      <td>3</td>\n",
       "      <td>VERTICAL</td>\n",
       "      <td>598.0</td>\n",
       "      <td>12 1/4</td>\n",
       "      <td>1201.0</td>\n",
       "      <td>4</td>\n",
       "    </tr>\n",
       "    <tr>\n",
       "      <th>3</th>\n",
       "      <td>3</td>\n",
       "      <td>6C5G4M</td>\n",
       "      <td>4</td>\n",
       "      <td>VERTICAL</td>\n",
       "      <td>598.0</td>\n",
       "      <td>8 1/2</td>\n",
       "      <td>1445.0</td>\n",
       "      <td>4</td>\n",
       "    </tr>\n",
       "    <tr>\n",
       "      <th>4</th>\n",
       "      <td>4</td>\n",
       "      <td>8030JC</td>\n",
       "      <td>1</td>\n",
       "      <td>VERTICAL</td>\n",
       "      <td>0.0</td>\n",
       "      <td>17 1/2</td>\n",
       "      <td>410.0</td>\n",
       "      <td>3</td>\n",
       "    </tr>\n",
       "  </tbody>\n",
       "</table>\n",
       "</div>"
      ],
      "text/plain": [
       "   Unnamed: 0 Nome do Poço  Fase Tipo Poço  LDA (Lâmina D'Água) Diâmetro Fase  \\\n",
       "0           0       6C5G4M     1  VERTICAL                598.0      26         \n",
       "1           1       6C5G4M     2  VERTICAL                598.0      17 1/2     \n",
       "2           2       6C5G4M     3  VERTICAL                598.0      12 1/4     \n",
       "3           3       6C5G4M     4  VERTICAL                598.0      8 1/2      \n",
       "4           4       8030JC     1  VERTICAL                  0.0      17 1/2     \n",
       "\n",
       "   Metragem  NFases  \n",
       "0     607.0       4  \n",
       "1    1306.0       4  \n",
       "2    1201.0       4  \n",
       "3    1445.0       4  \n",
       "4     410.0       3  "
      ]
     },
     "execution_count": 29,
     "metadata": {},
     "output_type": "execute_result"
    }
   ],
   "source": [
    "# Carregando dados csv\n",
    "df = pd.read_csv('data/dados_pocos.csv')\n",
    "df.head()"
   ]
  },
  {
   "cell_type": "markdown",
   "metadata": {},
   "source": [
    "# **Limpeza dos Dados**\n",
    "- Tratamento de valores ausentes\n",
    "- Remoção de outliers\n",
    "- Correção de tipos de dados"
   ]
  },
  {
   "cell_type": "code",
   "execution_count": 30,
   "metadata": {},
   "outputs": [
    {
     "data": {
      "text/html": [
       "<div>\n",
       "<style scoped>\n",
       "    .dataframe tbody tr th:only-of-type {\n",
       "        vertical-align: middle;\n",
       "    }\n",
       "\n",
       "    .dataframe tbody tr th {\n",
       "        vertical-align: top;\n",
       "    }\n",
       "\n",
       "    .dataframe thead th {\n",
       "        text-align: right;\n",
       "    }\n",
       "</style>\n",
       "<table border=\"1\" class=\"dataframe\">\n",
       "  <thead>\n",
       "    <tr style=\"text-align: right;\">\n",
       "      <th></th>\n",
       "      <th>nome_do_poco</th>\n",
       "      <th>fase</th>\n",
       "      <th>tipo_poco</th>\n",
       "      <th>lda_lamina_d_agua</th>\n",
       "      <th>diametro_fase</th>\n",
       "      <th>metragem</th>\n",
       "      <th>nfases</th>\n",
       "    </tr>\n",
       "  </thead>\n",
       "  <tbody>\n",
       "    <tr>\n",
       "      <th>0</th>\n",
       "      <td>6C5G4M</td>\n",
       "      <td>1</td>\n",
       "      <td>VERTICAL</td>\n",
       "      <td>598.0</td>\n",
       "      <td>26</td>\n",
       "      <td>607.0</td>\n",
       "      <td>4</td>\n",
       "    </tr>\n",
       "    <tr>\n",
       "      <th>1</th>\n",
       "      <td>6C5G4M</td>\n",
       "      <td>2</td>\n",
       "      <td>VERTICAL</td>\n",
       "      <td>598.0</td>\n",
       "      <td>17 1/2</td>\n",
       "      <td>1306.0</td>\n",
       "      <td>4</td>\n",
       "    </tr>\n",
       "    <tr>\n",
       "      <th>2</th>\n",
       "      <td>6C5G4M</td>\n",
       "      <td>3</td>\n",
       "      <td>VERTICAL</td>\n",
       "      <td>598.0</td>\n",
       "      <td>12 1/4</td>\n",
       "      <td>1201.0</td>\n",
       "      <td>4</td>\n",
       "    </tr>\n",
       "    <tr>\n",
       "      <th>3</th>\n",
       "      <td>6C5G4M</td>\n",
       "      <td>4</td>\n",
       "      <td>VERTICAL</td>\n",
       "      <td>598.0</td>\n",
       "      <td>8 1/2</td>\n",
       "      <td>1445.0</td>\n",
       "      <td>4</td>\n",
       "    </tr>\n",
       "    <tr>\n",
       "      <th>4</th>\n",
       "      <td>8030JC</td>\n",
       "      <td>1</td>\n",
       "      <td>VERTICAL</td>\n",
       "      <td>0.0</td>\n",
       "      <td>17 1/2</td>\n",
       "      <td>410.0</td>\n",
       "      <td>3</td>\n",
       "    </tr>\n",
       "  </tbody>\n",
       "</table>\n",
       "</div>"
      ],
      "text/plain": [
       "  nome_do_poco  fase tipo_poco  lda_lamina_d_agua diametro_fase  metragem  \\\n",
       "0       6C5G4M     1  VERTICAL              598.0      26           607.0   \n",
       "1       6C5G4M     2  VERTICAL              598.0      17 1/2      1306.0   \n",
       "2       6C5G4M     3  VERTICAL              598.0      12 1/4      1201.0   \n",
       "3       6C5G4M     4  VERTICAL              598.0      8 1/2       1445.0   \n",
       "4       8030JC     1  VERTICAL                0.0      17 1/2       410.0   \n",
       "\n",
       "   nfases  \n",
       "0       4  \n",
       "1       4  \n",
       "2       4  \n",
       "3       4  \n",
       "4       3  "
      ]
     },
     "execution_count": 30,
     "metadata": {},
     "output_type": "execute_result"
    }
   ],
   "source": [
    "# Renomear as colunas para o padrão PEP8\n",
    "df.columns = ['index', 'nome_do_poco', 'fase', 'tipo_poco', 'lda_lamina_d_agua', 'diametro_fase', 'metragem', 'nfases']\n",
    "\n",
    "# Remover a coluna de índices 'Unnamed: 0'\n",
    "df = df.drop(columns=['index'])\n",
    "\n",
    "# Exibir df\n",
    "df.head()"
   ]
  },
  {
   "cell_type": "code",
   "execution_count": 31,
   "metadata": {},
   "outputs": [
    {
     "name": "stdout",
     "output_type": "stream",
     "text": [
      "nome_do_poco          object\n",
      "fase                   int64\n",
      "tipo_poco             object\n",
      "lda_lamina_d_agua    float64\n",
      "diametro_fase         object\n",
      "metragem             float64\n",
      "nfases                 int64\n",
      "dtype: object\n"
     ]
    }
   ],
   "source": [
    "# Verificar tipos de cada coluna\n",
    "print(df.dtypes)"
   ]
  },
  {
   "cell_type": "code",
   "execution_count": 32,
   "metadata": {},
   "outputs": [
    {
     "name": "stdout",
     "output_type": "stream",
     "text": [
      "                   valores_nulos  percentual\n",
      "nome_do_poco                   0         0.0\n",
      "fase                           0         0.0\n",
      "tipo_poco                      0         0.0\n",
      "lda_lamina_d_agua              0         0.0\n",
      "diametro_fase                  0         0.0\n",
      "metragem                       0         0.0\n",
      "nfases                         0         0.0\n"
     ]
    }
   ],
   "source": [
    "# Verificar quantidade de valores ausentes por coluna\n",
    "missing_values = df.isna().sum()\n",
    "missing_values_percentage = (missing_values / len(df)) * 100\n",
    "missing_values_df = pd.DataFrame({'valores_nulos': missing_values, 'percentual': missing_values_percentage})\n",
    "print(missing_values_df)"
   ]
  },
  {
   "cell_type": "code",
   "execution_count": 33,
   "metadata": {},
   "outputs": [
    {
     "name": "stdout",
     "output_type": "stream",
     "text": [
      "Quantidade de linhas duplicadas: 0\n"
     ]
    }
   ],
   "source": [
    "# Verificar quantidade de linhas duplicadas\n",
    "duplicate_count = df.duplicated().sum()\n",
    "print(f'Quantidade de linhas duplicadas: {duplicate_count}')"
   ]
  },
  {
   "cell_type": "code",
   "execution_count": 34,
   "metadata": {},
   "outputs": [
    {
     "data": {
      "text/plain": [
       "nome_do_poco                object\n",
       "fase                         int64\n",
       "tipo_poco                   object\n",
       "lda_lamina_d_agua          float64\n",
       "metragem                   float64\n",
       "nfases                       int64\n",
       "diametro_fase_polegadas    float64\n",
       "dtype: object"
      ]
     },
     "execution_count": 34,
     "metadata": {},
     "output_type": "execute_result"
    }
   ],
   "source": [
    "# Converte coluna de string para float\n",
    "df['diametro_fase_polegadas'] = df['diametro_fase'].apply(polegadas)\n",
    "df.drop(columns='diametro_fase', inplace=True)\n",
    "df.dtypes"
   ]
  },
  {
   "cell_type": "markdown",
   "metadata": {},
   "source": [
    "## Corrigindo a coluna 'tipo_poco'\n",
    "- O exercício informa que existem apenas 02 tipos: VERTICAL e HORIZONTAL\n",
    "- Mas o dataset tem mais valores além desses: DIRECIONAL e '0'\n",
    "- data imputting"
   ]
  },
  {
   "cell_type": "code",
   "execution_count": 35,
   "metadata": {},
   "outputs": [
    {
     "data": {
      "text/plain": [
       "array(['VERTICAL', 'DIRECIONAL', '0', 'HORIZONTAL'], dtype=object)"
      ]
     },
     "execution_count": 35,
     "metadata": {},
     "output_type": "execute_result"
    }
   ],
   "source": [
    "df['tipo_poco'].unique()"
   ]
  },
  {
   "cell_type": "markdown",
   "metadata": {},
   "source": [
    "Diante da quantidade de valores incorretos, tenho que pensar numa abordagem cautelosa para substituir esses valores."
   ]
  },
  {
   "cell_type": "code",
   "execution_count": 36,
   "metadata": {},
   "outputs": [
    {
     "name": "stdout",
     "output_type": "stream",
     "text": [
      "Porcentagem de valores com DIRECIONAL: 35.80%\n",
      "Porcentagem de valores com 0: 1.42%\n"
     ]
    }
   ],
   "source": [
    "# Contando quantas linhas têm valores incorretos para 'tipo_poco'\n",
    "counts = df['tipo_poco'].value_counts()\n",
    "direcional_count = counts.get('DIRECIONAL', 0)\n",
    "zero_count = counts.get('0', 0)\n",
    "\n",
    "# Calcular a porcentagem\n",
    "total_count = len(df['tipo_poco'])\n",
    "direcional_perc = (direcional_count / total_count) * 100\n",
    "zero_perc = (zero_count / total_count) * 100\n",
    "\n",
    "print(f\"Porcentagem de valores com DIRECIONAL: {direcional_perc:.2f}%\")\n",
    "print(f\"Porcentagem de valores com 0: {zero_perc:.2f}%\")"
   ]
  },
  {
   "cell_type": "markdown",
   "metadata": {},
   "source": [
    "### Imputação de dados com Machine Learning\n",
    "- Vou utilizar um modelo de Machine Learning para prever (**classificar**) o valor correto de 'tipo_poco' com base nas características das ocorrências corretas do dataset. \n",
    "- Esse modelo será aplicado às ocorrências com 'tipo_poco' = 'DIRECIONAL'\n",
    "- **Por que escolhi essa abordagem?** Para preservar ao máximo as características do dataset após a imputação de dados. Usar um método mais simples (como a moda) sobre uma grande quantidade de ocorrências (~36%) poderia induzir os modelos de ML ao erro durante a fase de modelagem, pois ele poderia encontrar características de um poço HORIZONTAL junto com o 'tipo_poco' VERTICAL, por exemplo."
   ]
  },
  {
   "cell_type": "code",
   "execution_count": 37,
   "metadata": {},
   "outputs": [],
   "source": [
    "# Primeiro eu vou tratar as ocorrências com zero: vou remover todas as linhas com valores '0', já que são poucas (1.4%)\n",
    "df = df[df['tipo_poco'] != '0']"
   ]
  },
  {
   "cell_type": "code",
   "execution_count": 44,
   "metadata": {},
   "outputs": [
    {
     "name": "stdout",
     "output_type": "stream",
     "text": [
      "\n",
      "Testando RandomForest...\n"
     ]
    },
    {
     "name": "stdout",
     "output_type": "stream",
     "text": [
      "\n",
      "Testando KNN...\n",
      "\n",
      "Testando DecisionTree...\n",
      "\n",
      "Melhor Modelo:\n",
      "Modelo: RandomForest\n",
      "Melhores Parâmetros Encontrados:\n",
      "{'max_depth': 30, 'min_samples_leaf': 2, 'min_samples_split': 10, 'n_estimators': 50}\n",
      "Relatório de Classificação (Treinamento):\n",
      "              precision    recall  f1-score   support\n",
      "\n",
      "  HORIZONTAL       0.96      0.81      0.88      1715\n",
      "    VERTICAL       0.94      0.99      0.96      4971\n",
      "\n",
      "    accuracy                           0.94      6686\n",
      "   macro avg       0.95      0.90      0.92      6686\n",
      "weighted avg       0.94      0.94      0.94      6686\n",
      "\n",
      "Acurácia no Conjunto de Treinamento:\n",
      "0.9429\n"
     ]
    }
   ],
   "source": [
    "# Definir os modelos e seus respectivos grids de parâmetros\n",
    "model_param_grid = {\n",
    "    'RandomForest': (RandomForestClassifier(), {\n",
    "        'n_estimators': [50, 100, 150],\n",
    "        'max_depth': [None, 10, 20, 30],\n",
    "        'min_samples_split': [2, 5, 10],\n",
    "        'min_samples_leaf': [1, 2, 4]\n",
    "    }),\n",
    "    'KNN': (KNeighborsClassifier(), {\n",
    "        'n_neighbors': [3, 5, 7, 9],\n",
    "        'weights': ['uniform', 'distance'],\n",
    "        'metric': ['euclidean', 'manhattan', 'minkowski']\n",
    "    }),\n",
    "    'DecisionTree': (DecisionTreeClassifier(), {\n",
    "        'criterion': ['gini', 'entropy'],\n",
    "        'max_depth': [None, 10, 20, 30],\n",
    "        'min_samples_split': [2, 5, 10],\n",
    "        'min_samples_leaf': [1, 2, 4]\n",
    "    })\n",
    "}\n",
    "\n",
    "# Testar os modelos e obter o melhor\n",
    "best_model = seleciona_modelos(df, model_param_grid)"
   ]
  },
  {
   "cell_type": "code",
   "execution_count": 46,
   "metadata": {},
   "outputs": [
    {
     "data": {
      "text/plain": [
       "['models/best_model.pkl']"
      ]
     },
     "execution_count": 46,
     "metadata": {},
     "output_type": "execute_result"
    }
   ],
   "source": [
    "# Gravar melhor modelo de imputação\n",
    "joblib.dump(best_model, 'models/best_model.pkl')"
   ]
  },
  {
   "cell_type": "code",
   "execution_count": 58,
   "metadata": {},
   "outputs": [],
   "source": [
    "# Imputar os dados corretos em 'tipo_poco' utilizando o melhor modelo de imputação\n",
    "\n",
    "# Carregar o melhor modelo encontrado\n",
    "best_model = joblib.load('models/best_model.pkl')\n",
    "\n",
    "# Preparar os dados para previsão\n",
    "df_direcional = df[df['tipo_poco'] == 'DIRECIONAL'] # monta um df apenas com as ocorrências de 'DIRECIONAL'\n",
    "X_direcional = df_direcional[['fase', 'lda_lamina_d_agua', 'metragem', 'nfases', 'diametro_fase_polegadas']]\n",
    "\n",
    "# Codificar o target apenas com os rótulos de 'HORIZONTAL' e 'VERTICAL'\n",
    "label_encoder = LabelEncoder()\n",
    "label_encoder.fit(['HORIZONTAL', 'VERTICAL'])  # Ajustar encoder com rótulos do modelo --> modelo foi treinado para retornar '0' e '1' apenas (HORIZONTAL e VERTICAL, não nessa ordem)\n",
    "\n",
    "# Realizar previsões\n",
    "y_pred_encoded = best_model.predict(X_direcional)\n",
    "\n",
    "# Converter previsões de volta para os rótulos originais\n",
    "y_pred = label_encoder.inverse_transform(y_pred_encoded)\n",
    "\n",
    "# Substituir valores 'DIRECIONAL' com previsões\n",
    "df.loc[df['tipo_poco'] == 'DIRECIONAL', 'tipo_poco'] = y_pred"
   ]
  },
  {
   "cell_type": "code",
   "execution_count": 65,
   "metadata": {},
   "outputs": [
    {
     "name": "stdout",
     "output_type": "stream",
     "text": [
      "Dataframe limpo gravado com sucesso!\n"
     ]
    }
   ],
   "source": [
    "# Gravar dataframe limpo\n",
    "df.to_csv('data/df_cleaned.csv', index=False)\n",
    "print('Dataframe limpo gravado com sucesso!')"
   ]
  },
  {
   "cell_type": "markdown",
   "metadata": {},
   "source": [
    "# **Análise Exploratória de Dados (EDA)**\n",
    "- Extrair insights de negócio\n",
    "- Estatísticas descritivas\n",
    "- Distribuições de variáveis\n",
    "- Análise de correlação\n",
    "- Visualizações (histogramas, scatter plots, heatmaps, etc.)"
   ]
  },
  {
   "cell_type": "code",
   "execution_count": 69,
   "metadata": {},
   "outputs": [
    {
     "data": {
      "text/html": [
       "<div>\n",
       "<style scoped>\n",
       "    .dataframe tbody tr th:only-of-type {\n",
       "        vertical-align: middle;\n",
       "    }\n",
       "\n",
       "    .dataframe tbody tr th {\n",
       "        vertical-align: top;\n",
       "    }\n",
       "\n",
       "    .dataframe thead th {\n",
       "        text-align: right;\n",
       "    }\n",
       "</style>\n",
       "<table border=\"1\" class=\"dataframe\">\n",
       "  <thead>\n",
       "    <tr style=\"text-align: right;\">\n",
       "      <th></th>\n",
       "      <th>nome_do_poco</th>\n",
       "      <th>fase</th>\n",
       "      <th>tipo_poco</th>\n",
       "      <th>lda_lamina_d_agua</th>\n",
       "      <th>metragem</th>\n",
       "      <th>nfases</th>\n",
       "      <th>diametro_fase_polegadas</th>\n",
       "    </tr>\n",
       "  </thead>\n",
       "  <tbody>\n",
       "    <tr>\n",
       "      <th>0</th>\n",
       "      <td>6C5G4M</td>\n",
       "      <td>1</td>\n",
       "      <td>VERTICAL</td>\n",
       "      <td>598.0</td>\n",
       "      <td>607.0</td>\n",
       "      <td>4</td>\n",
       "      <td>26.00</td>\n",
       "    </tr>\n",
       "    <tr>\n",
       "      <th>1</th>\n",
       "      <td>6C5G4M</td>\n",
       "      <td>2</td>\n",
       "      <td>VERTICAL</td>\n",
       "      <td>598.0</td>\n",
       "      <td>1306.0</td>\n",
       "      <td>4</td>\n",
       "      <td>17.50</td>\n",
       "    </tr>\n",
       "    <tr>\n",
       "      <th>2</th>\n",
       "      <td>6C5G4M</td>\n",
       "      <td>3</td>\n",
       "      <td>VERTICAL</td>\n",
       "      <td>598.0</td>\n",
       "      <td>1201.0</td>\n",
       "      <td>4</td>\n",
       "      <td>12.25</td>\n",
       "    </tr>\n",
       "    <tr>\n",
       "      <th>3</th>\n",
       "      <td>6C5G4M</td>\n",
       "      <td>4</td>\n",
       "      <td>VERTICAL</td>\n",
       "      <td>598.0</td>\n",
       "      <td>1445.0</td>\n",
       "      <td>4</td>\n",
       "      <td>8.50</td>\n",
       "    </tr>\n",
       "    <tr>\n",
       "      <th>4</th>\n",
       "      <td>8030JC</td>\n",
       "      <td>1</td>\n",
       "      <td>VERTICAL</td>\n",
       "      <td>0.0</td>\n",
       "      <td>410.0</td>\n",
       "      <td>3</td>\n",
       "      <td>17.50</td>\n",
       "    </tr>\n",
       "  </tbody>\n",
       "</table>\n",
       "</div>"
      ],
      "text/plain": [
       "  nome_do_poco  fase tipo_poco  lda_lamina_d_agua  metragem  nfases  \\\n",
       "0       6C5G4M     1  VERTICAL              598.0     607.0       4   \n",
       "1       6C5G4M     2  VERTICAL              598.0    1306.0       4   \n",
       "2       6C5G4M     3  VERTICAL              598.0    1201.0       4   \n",
       "3       6C5G4M     4  VERTICAL              598.0    1445.0       4   \n",
       "4       8030JC     1  VERTICAL                0.0     410.0       3   \n",
       "\n",
       "   diametro_fase_polegadas  \n",
       "0                    26.00  \n",
       "1                    17.50  \n",
       "2                    12.25  \n",
       "3                     8.50  \n",
       "4                    17.50  "
      ]
     },
     "execution_count": 69,
     "metadata": {},
     "output_type": "execute_result"
    }
   ],
   "source": [
    "# Carregando dataset limpo\n",
    "df = pd.read_csv('data/df_cleaned.csv')\n",
    "df.head()"
   ]
  },
  {
   "cell_type": "markdown",
   "metadata": {},
   "source": [
    "## Estatísticas Descritivas"
   ]
  },
  {
   "cell_type": "code",
   "execution_count": 70,
   "metadata": {},
   "outputs": [
    {
     "name": "stdout",
     "output_type": "stream",
     "text": [
      "<class 'pandas.core.frame.DataFrame'>\n",
      "RangeIndex: 10498 entries, 0 to 10497\n",
      "Data columns (total 7 columns):\n",
      " #   Column                   Non-Null Count  Dtype  \n",
      "---  ------                   --------------  -----  \n",
      " 0   nome_do_poco             10498 non-null  object \n",
      " 1   fase                     10498 non-null  int64  \n",
      " 2   tipo_poco                10498 non-null  object \n",
      " 3   lda_lamina_d_agua        10498 non-null  float64\n",
      " 4   metragem                 10498 non-null  float64\n",
      " 5   nfases                   10498 non-null  int64  \n",
      " 6   diametro_fase_polegadas  10498 non-null  float64\n",
      "dtypes: float64(3), int64(2), object(2)\n",
      "memory usage: 574.2+ KB\n"
     ]
    }
   ],
   "source": [
    "# Informações gerais do dataset\n",
    "df.info()"
   ]
  },
  {
   "cell_type": "code",
   "execution_count": 71,
   "metadata": {},
   "outputs": [
    {
     "data": {
      "text/html": [
       "<div>\n",
       "<style scoped>\n",
       "    .dataframe tbody tr th:only-of-type {\n",
       "        vertical-align: middle;\n",
       "    }\n",
       "\n",
       "    .dataframe tbody tr th {\n",
       "        vertical-align: top;\n",
       "    }\n",
       "\n",
       "    .dataframe thead th {\n",
       "        text-align: right;\n",
       "    }\n",
       "</style>\n",
       "<table border=\"1\" class=\"dataframe\">\n",
       "  <thead>\n",
       "    <tr style=\"text-align: right;\">\n",
       "      <th></th>\n",
       "      <th>fase</th>\n",
       "      <th>lda_lamina_d_agua</th>\n",
       "      <th>metragem</th>\n",
       "      <th>nfases</th>\n",
       "      <th>diametro_fase_polegadas</th>\n",
       "    </tr>\n",
       "  </thead>\n",
       "  <tbody>\n",
       "    <tr>\n",
       "      <th>count</th>\n",
       "      <td>10498.00</td>\n",
       "      <td>10498.00</td>\n",
       "      <td>10498.00</td>\n",
       "      <td>10498.00</td>\n",
       "      <td>10498.00</td>\n",
       "    </tr>\n",
       "    <tr>\n",
       "      <th>mean</th>\n",
       "      <td>2.67</td>\n",
       "      <td>1115.23</td>\n",
       "      <td>680.76</td>\n",
       "      <td>4.27</td>\n",
       "      <td>16.80</td>\n",
       "    </tr>\n",
       "    <tr>\n",
       "      <th>std</th>\n",
       "      <td>1.54</td>\n",
       "      <td>729.06</td>\n",
       "      <td>563.40</td>\n",
       "      <td>1.81</td>\n",
       "      <td>8.54</td>\n",
       "    </tr>\n",
       "    <tr>\n",
       "      <th>min</th>\n",
       "      <td>1.00</td>\n",
       "      <td>0.00</td>\n",
       "      <td>0.00</td>\n",
       "      <td>1.00</td>\n",
       "      <td>0.00</td>\n",
       "    </tr>\n",
       "    <tr>\n",
       "      <th>25%</th>\n",
       "      <td>1.00</td>\n",
       "      <td>466.75</td>\n",
       "      <td>188.25</td>\n",
       "      <td>3.00</td>\n",
       "      <td>9.50</td>\n",
       "    </tr>\n",
       "    <tr>\n",
       "      <th>50%</th>\n",
       "      <td>2.00</td>\n",
       "      <td>1098.00</td>\n",
       "      <td>609.00</td>\n",
       "      <td>4.00</td>\n",
       "      <td>12.25</td>\n",
       "    </tr>\n",
       "    <tr>\n",
       "      <th>75%</th>\n",
       "      <td>4.00</td>\n",
       "      <td>1735.00</td>\n",
       "      <td>1027.00</td>\n",
       "      <td>5.00</td>\n",
       "      <td>22.00</td>\n",
       "    </tr>\n",
       "    <tr>\n",
       "      <th>max</th>\n",
       "      <td>8.00</td>\n",
       "      <td>2988.00</td>\n",
       "      <td>4040.00</td>\n",
       "      <td>9.00</td>\n",
       "      <td>42.00</td>\n",
       "    </tr>\n",
       "  </tbody>\n",
       "</table>\n",
       "</div>"
      ],
      "text/plain": [
       "           fase  lda_lamina_d_agua  metragem    nfases  \\\n",
       "count  10498.00           10498.00  10498.00  10498.00   \n",
       "mean       2.67            1115.23    680.76      4.27   \n",
       "std        1.54             729.06    563.40      1.81   \n",
       "min        1.00               0.00      0.00      1.00   \n",
       "25%        1.00             466.75    188.25      3.00   \n",
       "50%        2.00            1098.00    609.00      4.00   \n",
       "75%        4.00            1735.00   1027.00      5.00   \n",
       "max        8.00            2988.00   4040.00      9.00   \n",
       "\n",
       "       diametro_fase_polegadas  \n",
       "count                 10498.00  \n",
       "mean                     16.80  \n",
       "std                       8.54  \n",
       "min                       0.00  \n",
       "25%                       9.50  \n",
       "50%                      12.25  \n",
       "75%                      22.00  \n",
       "max                      42.00  "
      ]
     },
     "execution_count": 71,
     "metadata": {},
     "output_type": "execute_result"
    }
   ],
   "source": [
    "# Estatística descritiva (apenas das colunas numéricas)\n",
    "df.describe().round(2)"
   ]
  },
  {
   "cell_type": "markdown",
   "metadata": {},
   "source": [
    "## Análise da distribuição dos dados"
   ]
  },
  {
   "cell_type": "code",
   "execution_count": 82,
   "metadata": {},
   "outputs": [
    {
     "data": {
      "image/png": "[encoded data removed]",
      "text/plain": [
       "<Figure size 1800x800 with 6 Axes>"
      ]
     },
     "metadata": {},
     "output_type": "display_data"
    }
   ],
   "source": [
    "# Analisar a distribuição de variáveis numéricas\n",
    "numeric_columns = ['fase', 'lda_lamina_d_agua', 'metragem', 'nfases', 'diametro_fase_polegadas']\n",
    "plot_distributions_grid(df, numeric_columns)"
   ]
  },
  {
   "cell_type": "code",
   "execution_count": 83,
   "metadata": {},
   "outputs": [
    {
     "data": {
      "image/png": "[encoded data removed]",
      "text/plain": [
       "<Figure size 2000x500 with 5 Axes>"
      ]
     },
     "metadata": {},
     "output_type": "display_data"
    }
   ],
   "source": [
    "# Procurando outliers\n",
    "detect_outliers(df, ['fase', 'lda_lamina_d_agua', 'metragem', 'nfases', 'diametro_fase_polegadas'])"
   ]
  },
  {
   "cell_type": "markdown",
   "metadata": {},
   "source": [
    "## Análise Univariada"
   ]
  },
  {
   "cell_type": "markdown",
   "metadata": {},
   "source": [
    "## Análise Bivariada"
   ]
  },
  {
   "cell_type": "markdown",
   "metadata": {},
   "source": [
    "# **Feature Engineering**\n",
    "- Criação de novas variáveis\n",
    "- Seleção de variáveis\n",
    "- Transformações de variáveis\n",
    "- Codificação de variáveis categóricas"
   ]
  },
  {
   "cell_type": "markdown",
   "metadata": {},
   "source": [
    "# **Pré-processamento dos Dados**\n",
    "- Divisão dos dados em treino e teste\n",
    "- Escalonamento de características\n",
    "- Preparação de dados para modelagem"
   ]
  },
  {
   "cell_type": "markdown",
   "metadata": {},
   "source": [
    "# **Modelagem** (Machine Learning)\n",
    "- Escolha dos modelos\n",
    "- Treinamento dos modelos\n",
    "- Avaliação de desempenho dos modelos\n",
    "- Ajuste de hiperparâmetros"
   ]
  },
  {
   "cell_type": "markdown",
   "metadata": {},
   "source": [
    "# **Avaliação do Modelo**\n",
    "- Métricas de avaliação (precision, recall, F1-score, etc.)\n",
    "- Curvas ROC e AUC\n",
    "- Análise de erros"
   ]
  },
  {
   "cell_type": "markdown",
   "metadata": {},
   "source": [
    "# **Deploy do Modelo**\n",
    "- Gravação do modelo treinado\n",
    "- Carregamento do modelo para previsões futuras"
   ]
  },
  {
   "cell_type": "markdown",
   "metadata": {},
   "source": [
    "# **Conclusões**\n",
    "- Sumário dos resultados\n",
    "- Recomendações\n",
    "- Próximos passos"
   ]
  },
  {
   "cell_type": "markdown",
   "metadata": {},
   "source": [
    "# **Referências**\n",
    "- Citações e referências utilizadas"
   ]
  }
 ],
 "metadata": {
  "kernelspec": {
   "display_name": "ds_env",
   "language": "python",
   "name": "python3"
  },
  "language_info": {
   "codemirror_mode": {
    "name": "ipython",
    "version": 3
   },
   "file_extension": ".py",
   "mimetype": "text/x-python",
   "name": "python",
   "nbconvert_exporter": "python",
   "pygments_lexer": "ipython3",
   "version": "3.12.4"
  }
 },
 "nbformat": 4,
 "nbformat_minor": 2
}
