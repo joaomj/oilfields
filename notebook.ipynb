{
 "cells": [
  {
   "cell_type": "markdown",
   "metadata": {},
   "source": [
    "# **Configuração Geral**"
   ]
  },
  {
   "cell_type": "markdown",
   "metadata": {},
   "source": [
    "## Imports"
   ]
  },
  {
   "cell_type": "code",
   "execution_count": 87,
   "metadata": {},
   "outputs": [],
   "source": [
    "import pandas as pd\n",
    "import matplotlib.pyplot as plt\n",
    "import numpy as np\n",
    "import seaborn as sns\n",
    "from fractions import Fraction"
   ]
  },
  {
   "cell_type": "markdown",
   "metadata": {},
   "source": [
    "## Funções"
   ]
  },
  {
   "cell_type": "code",
   "execution_count": 88,
   "metadata": {},
   "outputs": [],
   "source": [
    "# Converte uma string que representa polegadas para um float\n",
    "def polegadas(value):\n",
    "\n",
    "    # Divide a string recebida\n",
    "    value = value.strip()\n",
    "\n",
    "    # Se a string tem mais de uma parte, obtém a parte inteira e calcula a parte decimal\n",
    "    if ' ' in value:\n",
    "        inteiro, decimal = value.split(' ') # a parte inteira é o que está antes do ' ', a parte decimal é o que está depois\n",
    "        polegadas = float(inteiro) + float(Fraction(decimal))\n",
    "\n",
    "    else:\n",
    "        polegadas = float(value)\n",
    "    \n",
    "    return polegadas\n",
    "\n",
    "# -------------------------------\n"
   ]
  },
  {
   "cell_type": "markdown",
   "metadata": {},
   "source": [
    "# **Carregando Dados**"
   ]
  },
  {
   "cell_type": "code",
   "execution_count": 89,
   "metadata": {},
   "outputs": [
    {
     "data": {
      "text/html": [
       "<div>\n",
       "<style scoped>\n",
       "    .dataframe tbody tr th:only-of-type {\n",
       "        vertical-align: middle;\n",
       "    }\n",
       "\n",
       "    .dataframe tbody tr th {\n",
       "        vertical-align: top;\n",
       "    }\n",
       "\n",
       "    .dataframe thead th {\n",
       "        text-align: right;\n",
       "    }\n",
       "</style>\n",
       "<table border=\"1\" class=\"dataframe\">\n",
       "  <thead>\n",
       "    <tr style=\"text-align: right;\">\n",
       "      <th></th>\n",
       "      <th>Unnamed: 0</th>\n",
       "      <th>Nome do Poço</th>\n",
       "      <th>Fase</th>\n",
       "      <th>Tipo Poço</th>\n",
       "      <th>LDA (Lâmina D'Água)</th>\n",
       "      <th>Diâmetro Fase</th>\n",
       "      <th>Metragem</th>\n",
       "      <th>NFases</th>\n",
       "    </tr>\n",
       "  </thead>\n",
       "  <tbody>\n",
       "    <tr>\n",
       "      <th>0</th>\n",
       "      <td>0</td>\n",
       "      <td>6C5G4M</td>\n",
       "      <td>1</td>\n",
       "      <td>VERTICAL</td>\n",
       "      <td>598.0</td>\n",
       "      <td>26</td>\n",
       "      <td>607.0</td>\n",
       "      <td>4</td>\n",
       "    </tr>\n",
       "    <tr>\n",
       "      <th>1</th>\n",
       "      <td>1</td>\n",
       "      <td>6C5G4M</td>\n",
       "      <td>2</td>\n",
       "      <td>VERTICAL</td>\n",
       "      <td>598.0</td>\n",
       "      <td>17 1/2</td>\n",
       "      <td>1306.0</td>\n",
       "      <td>4</td>\n",
       "    </tr>\n",
       "    <tr>\n",
       "      <th>2</th>\n",
       "      <td>2</td>\n",
       "      <td>6C5G4M</td>\n",
       "      <td>3</td>\n",
       "      <td>VERTICAL</td>\n",
       "      <td>598.0</td>\n",
       "      <td>12 1/4</td>\n",
       "      <td>1201.0</td>\n",
       "      <td>4</td>\n",
       "    </tr>\n",
       "    <tr>\n",
       "      <th>3</th>\n",
       "      <td>3</td>\n",
       "      <td>6C5G4M</td>\n",
       "      <td>4</td>\n",
       "      <td>VERTICAL</td>\n",
       "      <td>598.0</td>\n",
       "      <td>8 1/2</td>\n",
       "      <td>1445.0</td>\n",
       "      <td>4</td>\n",
       "    </tr>\n",
       "    <tr>\n",
       "      <th>4</th>\n",
       "      <td>4</td>\n",
       "      <td>8030JC</td>\n",
       "      <td>1</td>\n",
       "      <td>VERTICAL</td>\n",
       "      <td>0.0</td>\n",
       "      <td>17 1/2</td>\n",
       "      <td>410.0</td>\n",
       "      <td>3</td>\n",
       "    </tr>\n",
       "  </tbody>\n",
       "</table>\n",
       "</div>"
      ],
      "text/plain": [
       "   Unnamed: 0 Nome do Poço  Fase Tipo Poço  LDA (Lâmina D'Água) Diâmetro Fase  \\\n",
       "0           0       6C5G4M     1  VERTICAL                598.0      26         \n",
       "1           1       6C5G4M     2  VERTICAL                598.0      17 1/2     \n",
       "2           2       6C5G4M     3  VERTICAL                598.0      12 1/4     \n",
       "3           3       6C5G4M     4  VERTICAL                598.0      8 1/2      \n",
       "4           4       8030JC     1  VERTICAL                  0.0      17 1/2     \n",
       "\n",
       "   Metragem  NFases  \n",
       "0     607.0       4  \n",
       "1    1306.0       4  \n",
       "2    1201.0       4  \n",
       "3    1445.0       4  \n",
       "4     410.0       3  "
      ]
     },
     "execution_count": 89,
     "metadata": {},
     "output_type": "execute_result"
    }
   ],
   "source": [
    "# Carregando dados csv\n",
    "df = pd.read_csv('data/dados_pocos.csv')\n",
    "df.head()"
   ]
  },
  {
   "cell_type": "markdown",
   "metadata": {},
   "source": [
    "# **Limpeza dos Dados**\n",
    "- Tratamento de valores ausentes\n",
    "- Remoção de outliers\n",
    "- Correção de tipos de dados\n",
    "- Normalização e padronização dos dados"
   ]
  },
  {
   "cell_type": "code",
   "execution_count": 90,
   "metadata": {},
   "outputs": [
    {
     "data": {
      "text/html": [
       "<div>\n",
       "<style scoped>\n",
       "    .dataframe tbody tr th:only-of-type {\n",
       "        vertical-align: middle;\n",
       "    }\n",
       "\n",
       "    .dataframe tbody tr th {\n",
       "        vertical-align: top;\n",
       "    }\n",
       "\n",
       "    .dataframe thead th {\n",
       "        text-align: right;\n",
       "    }\n",
       "</style>\n",
       "<table border=\"1\" class=\"dataframe\">\n",
       "  <thead>\n",
       "    <tr style=\"text-align: right;\">\n",
       "      <th></th>\n",
       "      <th>nome_do_poco</th>\n",
       "      <th>fase</th>\n",
       "      <th>tipo_poco</th>\n",
       "      <th>lda_lamina_d_agua</th>\n",
       "      <th>diametro_fase</th>\n",
       "      <th>metragem</th>\n",
       "      <th>nfases</th>\n",
       "    </tr>\n",
       "  </thead>\n",
       "  <tbody>\n",
       "    <tr>\n",
       "      <th>0</th>\n",
       "      <td>6C5G4M</td>\n",
       "      <td>1</td>\n",
       "      <td>VERTICAL</td>\n",
       "      <td>598.0</td>\n",
       "      <td>26</td>\n",
       "      <td>607.0</td>\n",
       "      <td>4</td>\n",
       "    </tr>\n",
       "    <tr>\n",
       "      <th>1</th>\n",
       "      <td>6C5G4M</td>\n",
       "      <td>2</td>\n",
       "      <td>VERTICAL</td>\n",
       "      <td>598.0</td>\n",
       "      <td>17 1/2</td>\n",
       "      <td>1306.0</td>\n",
       "      <td>4</td>\n",
       "    </tr>\n",
       "    <tr>\n",
       "      <th>2</th>\n",
       "      <td>6C5G4M</td>\n",
       "      <td>3</td>\n",
       "      <td>VERTICAL</td>\n",
       "      <td>598.0</td>\n",
       "      <td>12 1/4</td>\n",
       "      <td>1201.0</td>\n",
       "      <td>4</td>\n",
       "    </tr>\n",
       "    <tr>\n",
       "      <th>3</th>\n",
       "      <td>6C5G4M</td>\n",
       "      <td>4</td>\n",
       "      <td>VERTICAL</td>\n",
       "      <td>598.0</td>\n",
       "      <td>8 1/2</td>\n",
       "      <td>1445.0</td>\n",
       "      <td>4</td>\n",
       "    </tr>\n",
       "    <tr>\n",
       "      <th>4</th>\n",
       "      <td>8030JC</td>\n",
       "      <td>1</td>\n",
       "      <td>VERTICAL</td>\n",
       "      <td>0.0</td>\n",
       "      <td>17 1/2</td>\n",
       "      <td>410.0</td>\n",
       "      <td>3</td>\n",
       "    </tr>\n",
       "  </tbody>\n",
       "</table>\n",
       "</div>"
      ],
      "text/plain": [
       "  nome_do_poco  fase tipo_poco  lda_lamina_d_agua diametro_fase  metragem  \\\n",
       "0       6C5G4M     1  VERTICAL              598.0      26           607.0   \n",
       "1       6C5G4M     2  VERTICAL              598.0      17 1/2      1306.0   \n",
       "2       6C5G4M     3  VERTICAL              598.0      12 1/4      1201.0   \n",
       "3       6C5G4M     4  VERTICAL              598.0      8 1/2       1445.0   \n",
       "4       8030JC     1  VERTICAL                0.0      17 1/2       410.0   \n",
       "\n",
       "   nfases  \n",
       "0       4  \n",
       "1       4  \n",
       "2       4  \n",
       "3       4  \n",
       "4       3  "
      ]
     },
     "execution_count": 90,
     "metadata": {},
     "output_type": "execute_result"
    }
   ],
   "source": [
    "# Renomear as colunas para o padrão PEP8\n",
    "df.columns = ['index', 'nome_do_poco', 'fase', 'tipo_poco', 'lda_lamina_d_agua', 'diametro_fase', 'metragem', 'nfases']\n",
    "\n",
    "# Remover a coluna de índices 'Unnamed: 0'\n",
    "df = df.drop(columns=['index'])\n",
    "\n",
    "# Exibir df\n",
    "df.head()"
   ]
  },
  {
   "cell_type": "code",
   "execution_count": 91,
   "metadata": {},
   "outputs": [
    {
     "name": "stdout",
     "output_type": "stream",
     "text": [
      "nome_do_poco          object\n",
      "fase                   int64\n",
      "tipo_poco             object\n",
      "lda_lamina_d_agua    float64\n",
      "diametro_fase         object\n",
      "metragem             float64\n",
      "nfases                 int64\n",
      "dtype: object\n"
     ]
    }
   ],
   "source": [
    "# Verificar tipos de cada coluna\n",
    "print(df.dtypes)"
   ]
  },
  {
   "cell_type": "code",
   "execution_count": 92,
   "metadata": {},
   "outputs": [
    {
     "name": "stdout",
     "output_type": "stream",
     "text": [
      "                   valores_nulos  percentual\n",
      "nome_do_poco                   0         0.0\n",
      "fase                           0         0.0\n",
      "tipo_poco                      0         0.0\n",
      "lda_lamina_d_agua              0         0.0\n",
      "diametro_fase                  0         0.0\n",
      "metragem                       0         0.0\n",
      "nfases                         0         0.0\n"
     ]
    }
   ],
   "source": [
    "# Verificar quantidade de valores ausentes por coluna\n",
    "missing_values = df.isna().sum()\n",
    "missing_values_percentage = (missing_values / len(df)) * 100\n",
    "missing_values_df = pd.DataFrame({'valores_nulos': missing_values, 'percentual': missing_values_percentage})\n",
    "print(missing_values_df)"
   ]
  },
  {
   "cell_type": "code",
   "execution_count": 93,
   "metadata": {},
   "outputs": [
    {
     "name": "stdout",
     "output_type": "stream",
     "text": [
      "Quantidade de linhas duplicadas: 0\n"
     ]
    }
   ],
   "source": [
    "# Verificar quantidade de linhas duplicadas\n",
    "duplicate_count = df.duplicated().sum()\n",
    "print(f'Quantidade de linhas duplicadas: {duplicate_count}')"
   ]
  },
  {
   "cell_type": "code",
   "execution_count": 94,
   "metadata": {},
   "outputs": [
    {
     "data": {
      "text/plain": [
       "nome_do_poco                object\n",
       "fase                         int64\n",
       "tipo_poco                   object\n",
       "lda_lamina_d_agua          float64\n",
       "metragem                   float64\n",
       "nfases                       int64\n",
       "diametro_fase_polegadas    float64\n",
       "dtype: object"
      ]
     },
     "execution_count": 94,
     "metadata": {},
     "output_type": "execute_result"
    }
   ],
   "source": [
    "# Converte coluna de string para float\n",
    "df['diametro_fase_polegadas'] = df['diametro_fase'].apply(polegadas)\n",
    "df.drop(columns='diametro_fase', inplace=True)\n",
    "df.dtypes"
   ]
  },
  {
   "cell_type": "markdown",
   "metadata": {},
   "source": [
    "## Corrigindo a coluna 'tipo_poco'\n",
    "- O exercício informa que existem apenas 02 tipos: VERTICAL e HORIZONTAL\n",
    "- Mas o dataset tem mais valores além desses: DIRECIONAL e '0'"
   ]
  },
  {
   "cell_type": "code",
   "execution_count": 95,
   "metadata": {},
   "outputs": [
    {
     "data": {
      "text/plain": [
       "array(['VERTICAL', 'DIRECIONAL', '0', 'HORIZONTAL'], dtype=object)"
      ]
     },
     "execution_count": 95,
     "metadata": {},
     "output_type": "execute_result"
    }
   ],
   "source": [
    "df['tipo_poco'].unique()"
   ]
  },
  {
   "cell_type": "markdown",
   "metadata": {},
   "source": [
    "Diante da quantidade de valores incorretos, tenho que pensar numa abordagem cautelosa para substituir esses valores."
   ]
  },
  {
   "cell_type": "code",
   "execution_count": 104,
   "metadata": {},
   "outputs": [
    {
     "name": "stdout",
     "output_type": "stream",
     "text": [
      "Porcentagem de valores com DIRECIONAL: 35.80%\n",
      "Porcentagem de valores com 0: 1.42%\n"
     ]
    }
   ],
   "source": [
    "# Contando quantas linhas têm valores incorretos para 'tipo_poco'\n",
    "counts = df['tipo_poco'].value_counts()\n",
    "direcional_count = counts.get('DIRECIONAL', 0)\n",
    "zero_count = counts.get('0', 0)\n",
    "\n",
    "# Calcular a porcentagem\n",
    "total_count = len(df['tipo_poco'])\n",
    "direcional_perc = (direcional_count / total_count) * 100\n",
    "zero_perc = (zero_count / total_count) * 100\n",
    "\n",
    "print(f\"Porcentagem de valores com DIRECIONAL: {direcional_perc:.2f}%\")\n",
    "print(f\"Porcentagem de valores com 0: {zero_perc:.2f}%\")"
   ]
  },
  {
   "cell_type": "code",
   "execution_count": null,
   "metadata": {},
   "outputs": [],
   "source": []
  },
  {
   "cell_type": "code",
   "execution_count": 59,
   "metadata": {},
   "outputs": [
    {
     "name": "stdout",
     "output_type": "stream",
     "text": [
      "Dataframe limpo gravado com sucesso!\n"
     ]
    }
   ],
   "source": [
    "# Gravar dataframe limpo\n",
    "df.to_csv('data/df_cleaned.csv', index=False)\n",
    "print('Dataframe limpo gravado com sucesso!')"
   ]
  },
  {
   "cell_type": "markdown",
   "metadata": {},
   "source": [
    "# **Análise Exploratória de Dados (EDA)**\n",
    "- Extrair insights de negócio\n",
    "- Estatísticas descritivas\n",
    "- Distribuições de variáveis\n",
    "- Análise de correlação\n",
    "- Visualizações (histogramas, scatter plots, heatmaps, etc.)"
   ]
  },
  {
   "cell_type": "code",
   "execution_count": 60,
   "metadata": {},
   "outputs": [
    {
     "data": {
      "text/html": [
       "<div>\n",
       "<style scoped>\n",
       "    .dataframe tbody tr th:only-of-type {\n",
       "        vertical-align: middle;\n",
       "    }\n",
       "\n",
       "    .dataframe tbody tr th {\n",
       "        vertical-align: top;\n",
       "    }\n",
       "\n",
       "    .dataframe thead th {\n",
       "        text-align: right;\n",
       "    }\n",
       "</style>\n",
       "<table border=\"1\" class=\"dataframe\">\n",
       "  <thead>\n",
       "    <tr style=\"text-align: right;\">\n",
       "      <th></th>\n",
       "      <th>nome_do_poco</th>\n",
       "      <th>fase</th>\n",
       "      <th>tipo_poco</th>\n",
       "      <th>lda_lamina_d_agua</th>\n",
       "      <th>metragem</th>\n",
       "      <th>nfases</th>\n",
       "      <th>diametro_fase_polegadas</th>\n",
       "    </tr>\n",
       "  </thead>\n",
       "  <tbody>\n",
       "    <tr>\n",
       "      <th>0</th>\n",
       "      <td>6C5G4M</td>\n",
       "      <td>1</td>\n",
       "      <td>VERTICAL</td>\n",
       "      <td>598.0</td>\n",
       "      <td>607.0</td>\n",
       "      <td>4</td>\n",
       "      <td>26.00</td>\n",
       "    </tr>\n",
       "    <tr>\n",
       "      <th>1</th>\n",
       "      <td>6C5G4M</td>\n",
       "      <td>2</td>\n",
       "      <td>VERTICAL</td>\n",
       "      <td>598.0</td>\n",
       "      <td>1306.0</td>\n",
       "      <td>4</td>\n",
       "      <td>17.50</td>\n",
       "    </tr>\n",
       "    <tr>\n",
       "      <th>2</th>\n",
       "      <td>6C5G4M</td>\n",
       "      <td>3</td>\n",
       "      <td>VERTICAL</td>\n",
       "      <td>598.0</td>\n",
       "      <td>1201.0</td>\n",
       "      <td>4</td>\n",
       "      <td>12.25</td>\n",
       "    </tr>\n",
       "    <tr>\n",
       "      <th>3</th>\n",
       "      <td>6C5G4M</td>\n",
       "      <td>4</td>\n",
       "      <td>VERTICAL</td>\n",
       "      <td>598.0</td>\n",
       "      <td>1445.0</td>\n",
       "      <td>4</td>\n",
       "      <td>8.50</td>\n",
       "    </tr>\n",
       "    <tr>\n",
       "      <th>4</th>\n",
       "      <td>8030JC</td>\n",
       "      <td>1</td>\n",
       "      <td>VERTICAL</td>\n",
       "      <td>0.0</td>\n",
       "      <td>410.0</td>\n",
       "      <td>3</td>\n",
       "      <td>17.50</td>\n",
       "    </tr>\n",
       "  </tbody>\n",
       "</table>\n",
       "</div>"
      ],
      "text/plain": [
       "  nome_do_poco  fase tipo_poco  lda_lamina_d_agua  metragem  nfases  \\\n",
       "0       6C5G4M     1  VERTICAL              598.0     607.0       4   \n",
       "1       6C5G4M     2  VERTICAL              598.0    1306.0       4   \n",
       "2       6C5G4M     3  VERTICAL              598.0    1201.0       4   \n",
       "3       6C5G4M     4  VERTICAL              598.0    1445.0       4   \n",
       "4       8030JC     1  VERTICAL                0.0     410.0       3   \n",
       "\n",
       "   diametro_fase_polegadas  \n",
       "0                    26.00  \n",
       "1                    17.50  \n",
       "2                    12.25  \n",
       "3                     8.50  \n",
       "4                    17.50  "
      ]
     },
     "execution_count": 60,
     "metadata": {},
     "output_type": "execute_result"
    }
   ],
   "source": [
    "# Carregando dataset limpo\n",
    "df = pd.read_csv('data/df_cleaned.csv')\n",
    "df.head()"
   ]
  },
  {
   "cell_type": "code",
   "execution_count": 61,
   "metadata": {},
   "outputs": [
    {
     "name": "stdout",
     "output_type": "stream",
     "text": [
      "<class 'pandas.core.frame.DataFrame'>\n",
      "RangeIndex: 10649 entries, 0 to 10648\n",
      "Data columns (total 7 columns):\n",
      " #   Column                   Non-Null Count  Dtype  \n",
      "---  ------                   --------------  -----  \n",
      " 0   nome_do_poco             10649 non-null  object \n",
      " 1   fase                     10649 non-null  int64  \n",
      " 2   tipo_poco                10649 non-null  object \n",
      " 3   lda_lamina_d_agua        10649 non-null  float64\n",
      " 4   metragem                 10649 non-null  float64\n",
      " 5   nfases                   10649 non-null  int64  \n",
      " 6   diametro_fase_polegadas  10649 non-null  float64\n",
      "dtypes: float64(3), int64(2), object(2)\n",
      "memory usage: 582.5+ KB\n"
     ]
    }
   ],
   "source": [
    "# Informações gerais do dataset\n",
    "df.info()"
   ]
  },
  {
   "cell_type": "code",
   "execution_count": 63,
   "metadata": {},
   "outputs": [
    {
     "data": {
      "text/html": [
       "<div>\n",
       "<style scoped>\n",
       "    .dataframe tbody tr th:only-of-type {\n",
       "        vertical-align: middle;\n",
       "    }\n",
       "\n",
       "    .dataframe tbody tr th {\n",
       "        vertical-align: top;\n",
       "    }\n",
       "\n",
       "    .dataframe thead th {\n",
       "        text-align: right;\n",
       "    }\n",
       "</style>\n",
       "<table border=\"1\" class=\"dataframe\">\n",
       "  <thead>\n",
       "    <tr style=\"text-align: right;\">\n",
       "      <th></th>\n",
       "      <th>fase</th>\n",
       "      <th>lda_lamina_d_agua</th>\n",
       "      <th>metragem</th>\n",
       "      <th>nfases</th>\n",
       "      <th>diametro_fase_polegadas</th>\n",
       "    </tr>\n",
       "  </thead>\n",
       "  <tbody>\n",
       "    <tr>\n",
       "      <th>count</th>\n",
       "      <td>10649.00</td>\n",
       "      <td>10649.00</td>\n",
       "      <td>10649.00</td>\n",
       "      <td>10649.00</td>\n",
       "      <td>10649.00</td>\n",
       "    </tr>\n",
       "    <tr>\n",
       "      <th>mean</th>\n",
       "      <td>2.67</td>\n",
       "      <td>1105.84</td>\n",
       "      <td>678.04</td>\n",
       "      <td>4.30</td>\n",
       "      <td>16.84</td>\n",
       "    </tr>\n",
       "    <tr>\n",
       "      <th>std</th>\n",
       "      <td>1.54</td>\n",
       "      <td>733.54</td>\n",
       "      <td>564.20</td>\n",
       "      <td>1.99</td>\n",
       "      <td>8.57</td>\n",
       "    </tr>\n",
       "    <tr>\n",
       "      <th>min</th>\n",
       "      <td>1.00</td>\n",
       "      <td>0.00</td>\n",
       "      <td>0.00</td>\n",
       "      <td>1.00</td>\n",
       "      <td>0.00</td>\n",
       "    </tr>\n",
       "    <tr>\n",
       "      <th>25%</th>\n",
       "      <td>1.00</td>\n",
       "      <td>444.00</td>\n",
       "      <td>178.00</td>\n",
       "      <td>3.00</td>\n",
       "      <td>9.50</td>\n",
       "    </tr>\n",
       "    <tr>\n",
       "      <th>50%</th>\n",
       "      <td>2.00</td>\n",
       "      <td>1091.00</td>\n",
       "      <td>604.00</td>\n",
       "      <td>4.00</td>\n",
       "      <td>14.00</td>\n",
       "    </tr>\n",
       "    <tr>\n",
       "      <th>75%</th>\n",
       "      <td>4.00</td>\n",
       "      <td>1730.00</td>\n",
       "      <td>1026.00</td>\n",
       "      <td>5.00</td>\n",
       "      <td>22.00</td>\n",
       "    </tr>\n",
       "    <tr>\n",
       "      <th>max</th>\n",
       "      <td>8.00</td>\n",
       "      <td>2988.00</td>\n",
       "      <td>4040.00</td>\n",
       "      <td>22.00</td>\n",
       "      <td>42.00</td>\n",
       "    </tr>\n",
       "  </tbody>\n",
       "</table>\n",
       "</div>"
      ],
      "text/plain": [
       "           fase  lda_lamina_d_agua  metragem    nfases  \\\n",
       "count  10649.00           10649.00  10649.00  10649.00   \n",
       "mean       2.67            1105.84    678.04      4.30   \n",
       "std        1.54             733.54    564.20      1.99   \n",
       "min        1.00               0.00      0.00      1.00   \n",
       "25%        1.00             444.00    178.00      3.00   \n",
       "50%        2.00            1091.00    604.00      4.00   \n",
       "75%        4.00            1730.00   1026.00      5.00   \n",
       "max        8.00            2988.00   4040.00     22.00   \n",
       "\n",
       "       diametro_fase_polegadas  \n",
       "count                 10649.00  \n",
       "mean                     16.84  \n",
       "std                       8.57  \n",
       "min                       0.00  \n",
       "25%                       9.50  \n",
       "50%                      14.00  \n",
       "75%                      22.00  \n",
       "max                      42.00  "
      ]
     },
     "execution_count": 63,
     "metadata": {},
     "output_type": "execute_result"
    }
   ],
   "source": [
    "# Estatística descritiva (apenas das colunas numéricas)\n",
    "df.describe().round(2)"
   ]
  },
  {
   "cell_type": "markdown",
   "metadata": {},
   "source": [
    "# **Feature Engineering**\n",
    "- Criação de novas variáveis\n",
    "- Seleção de variáveis\n",
    "- Transformações de variáveis\n",
    "- Codificação de variáveis categóricas"
   ]
  },
  {
   "cell_type": "markdown",
   "metadata": {},
   "source": [
    "# **Pré-processamento dos Dados**\n",
    "- Divisão dos dados em treino e teste\n",
    "- Escalonamento de características\n",
    "- Preparação de dados para modelagem"
   ]
  },
  {
   "cell_type": "markdown",
   "metadata": {},
   "source": [
    "# **Modelagem** (Machine Learning)\n",
    "- Escolha dos modelos\n",
    "- Treinamento dos modelos\n",
    "- Avaliação de desempenho dos modelos\n",
    "- Ajuste de hiperparâmetros"
   ]
  },
  {
   "cell_type": "markdown",
   "metadata": {},
   "source": [
    "# **Avaliação do Modelo**\n",
    "- Métricas de avaliação (precision, recall, F1-score, etc.)\n",
    "- Curvas ROC e AUC\n",
    "- Análise de erros"
   ]
  },
  {
   "cell_type": "markdown",
   "metadata": {},
   "source": [
    "# **Deploy do Modelo**\n",
    "- Gravação do modelo treinado\n",
    "- Carregamento do modelo para previsões futuras"
   ]
  },
  {
   "cell_type": "markdown",
   "metadata": {},
   "source": [
    "# **Conclusões**\n",
    "- Sumário dos resultados\n",
    "- Recomendações\n",
    "- Próximos passos"
   ]
  },
  {
   "cell_type": "markdown",
   "metadata": {},
   "source": [
    "# **Referências**\n",
    "- Citações e referências utilizadas"
   ]
  }
 ],
 "metadata": {
  "kernelspec": {
   "display_name": "ds_env",
   "language": "python",
   "name": "python3"
  },
  "language_info": {
   "codemirror_mode": {
    "name": "ipython",
    "version": 3
   },
   "file_extension": ".py",
   "mimetype": "text/x-python",
   "name": "python",
   "nbconvert_exporter": "python",
   "pygments_lexer": "ipython3",
   "version": "3.12.4"
  }
 },
 "nbformat": 4,
 "nbformat_minor": 2
}
